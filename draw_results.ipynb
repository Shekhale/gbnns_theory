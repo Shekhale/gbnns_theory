{
 "cells": [
  {
   "cell_type": "code",
   "execution_count": 10,
   "metadata": {
    "colab": {},
    "colab_type": "code",
    "id": "L4qkoFrZ3T5k"
   },
   "outputs": [],
   "source": [
    "import tqdm\n",
    "from tqdm import tqdm_notebook\n",
    "\n",
    "import time\n",
    "\n",
    "import numpy as np\n",
    "import matplotlib.pyplot as plt\n",
    "import mpl_toolkits.mplot3d.axes3d as axes3d\n",
    "\n",
    "import matplotlib.ticker as ticker"
   ]
  },
  {
   "cell_type": "code",
   "execution_count": 11,
   "metadata": {
    "colab": {},
    "colab_type": "code",
    "id": "vVmDyDSA3T5t"
   },
   "outputs": [],
   "source": [
    "# import warnings\n",
    "# warnings.filterwarnings('ignore')"
   ]
  },
  {
   "cell_type": "code",
   "execution_count": 12,
   "metadata": {
    "colab": {},
    "colab_type": "code",
    "id": "kX_YVTXH3T5w"
   },
   "outputs": [],
   "source": [
    "import pandas as pd\n",
    "import matplotlib.pyplot as plt\n",
    "import seaborn as sns"
   ]
  },
  {
   "cell_type": "code",
   "execution_count": 13,
   "metadata": {
    "colab": {},
    "colab_type": "code",
    "id": "s5_98I0w3T5z"
   },
   "outputs": [],
   "source": [
    "import os"
   ]
  },
  {
   "cell_type": "code",
   "execution_count": null,
   "metadata": {
    "colab": {},
    "colab_type": "code",
    "id": "jcoBuopc3T6R"
   },
   "outputs": [],
   "source": []
  },
  {
   "cell_type": "code",
   "execution_count": 32,
   "metadata": {
    "colab": {},
    "colab_type": "code",
    "id": "I9CowwTT3T6e"
   },
   "outputs": [],
   "source": [
    "def get_df(num_models, num_exper, file_names, model_names, y_axe,  y_axe_name, title, num_show = []):\n",
    "    acc_num = 3\n",
    "    dist_calc_num = 7\n",
    "    df = []\n",
    "    for i in range(len(file_names)):\n",
    "        file_name = os.path.expanduser(file_names[i])\n",
    "        data = np.genfromtxt(file_name, dtype=('U10','U10','U10',float,'U10',int,'U10',int,'U10',float)).tolist()\n",
    "        cur_line = -1\n",
    "        for mod in range(num_models[i]):\n",
    "            for j in range(num_exper[i]):\n",
    "                cur_line += 1\n",
    "                if y_axe == 11:\n",
    "                    df.append([1.00001 - data[cur_line][acc_num],\n",
    "                               1 / data[cur_line][y_axe], model_names[i][mod], title])\n",
    "                else:\n",
    "                    df.append([1.00001 - data[cur_line][acc_num],\n",
    "                              data[cur_line][y_axe], model_names[i][mod], title])\n",
    "\n",
    "    df = pd.DataFrame(df, columns=[\"Error = 1 - Recall@1\", y_axe_name, \"algorithm\", \"title\"])\n",
    "#     print(df.shape)\n",
    "    if len(num_show) > 0:\n",
    "        it = 0\n",
    "        itt = 0\n",
    "        num_for_iloc = []\n",
    "        model_names_list = []\n",
    "        for i in range(len(file_names)):\n",
    "            for mod in range(len(model_names[i])):\n",
    "                model_names_list.append(model_names[i][mod])\n",
    "        allowed_set = set()\n",
    "        same_dict = dict()\n",
    "        for i in range(len(file_names)):\n",
    "            for mod in range(len(model_names[i])):\n",
    "                if itt in num_show:\n",
    "                    allowed_set.add(model_names_list[i])\n",
    "                    for j in range(num_exper[i]):\n",
    "                        num_for_iloc.append(it)\n",
    "                        it += 1\n",
    "                else:\n",
    "                    it += num_exper[i]\n",
    "                itt += 1\n",
    "    df = df.iloc[num_for_iloc]\n",
    "    \n",
    "    return df"
   ]
  },
  {
   "cell_type": "code",
   "execution_count": null,
   "metadata": {},
   "outputs": [],
   "source": []
  },
  {
   "cell_type": "code",
   "execution_count": 33,
   "metadata": {},
   "outputs": [],
   "source": [
    "def show_results(frames, title, y_axe_name, x_log=True, y_log=False,\n",
    "                      dims=(18, 12), save=False, file_name='trash'):\n",
    "    size = len(frames)\n",
    "    ylim = [[500, 5000], [0, 1000],[0, 1000],[0, 1000]]\n",
    "    a4_dims = dims\n",
    "    fig, axs = plt.subplots(2, 2, figsize=a4_dims)\n",
    "    for i in range(2):\n",
    "        for j in range(2):\n",
    "            num = i * 2 + j\n",
    "            if i + j == 2:\n",
    "                sns.lineplot(x=\"Error = 1 - Recall@1\", y=y_axe_name,hue=\"algorithm\",\n",
    "                              markers=True, style=\"algorithm\", dashes=False,\n",
    "                              data=frames[num], ax=axs[i, j], linewidth=3, ms=15)\n",
    "            else:\n",
    "                sns.lineplot(x=\"Error = 1 - Recall@1\", y=y_axe_name,hue=\"algorithm\",\n",
    "                              markers=True, style=\"algorithm\", dashes=False,\n",
    "                              data=frames[num], ax=axs[i, j], legend=False, linewidth=3, ms=15)\n",
    "            \n",
    "            axs[i, j].set_title(title[num], size='30')\n",
    "\n",
    "            lx = axs[i, j].get_xlabel()\n",
    "            ly = axs[i, j].get_ylabel()\n",
    "            axs[i, j].set_xlabel(lx, fontsize=30)\n",
    "            axs[i, j].set_ylabel(ly, fontsize=30)\n",
    "            axs[i, j].tick_params(axis='both', which='both', labelsize=25)\n",
    "            axs[i, j].set_ymargin(0.075)\n",
    "            if i == 0:\n",
    "                axs[i, j].set_xlabel('')\n",
    "            if j == 1:\n",
    "                axs[i, j].set_ylabel('')\n",
    "            \n",
    "    plt.legend(loc=2, bbox_to_anchor=(1.05, 1, 0.5, 0.5), fontsize='30', markerscale=3, borderaxespad=0.)\n",
    "    if y_log:\n",
    "        for i in range(2):\n",
    "            for j in range(2):\n",
    "                axs[i, j].set(yscale=\"log\")\n",
    "            \n",
    "    if x_log:\n",
    "        for i in range(2):\n",
    "            for j in range(2):\n",
    "                axs[i, j].set(xscale=\"log\")# num_exper = [6, 6, 3]\n",
    "    \n",
    "    if save:\n",
    "        fig.savefig(file_name + \".pdf\", bbox_inches='tight')"
   ]
  },
  {
   "cell_type": "code",
   "execution_count": 34,
   "metadata": {},
   "outputs": [],
   "source": [
    "path = '~/Desktop/results/synthetic_n_10_6_d_'\n",
    "# path = '~/results/synthetic_n_10_6_d_'"
   ]
  },
  {
   "cell_type": "code",
   "execution_count": 1,
   "metadata": {},
   "outputs": [],
   "source": [
    "y_axe = 7\n",
    "y_axe_name = \"dist calc\"\n",
    "model_names = [['kNN', 'kNN + Kl', 'kNN + Kl + llf', 'kNN + beam', 'kNN + beam + Kl + llf']]\n",
    "num_show = [0, 1, 2, 3, 4]\n",
    "\n",
    "num_exper = [5]\n",
    "num_models = [5]\n",
    "file_names = [path + '3.txt']\n",
    "df_2 = get_df(num_models, num_exper, file_names, model_names,  y_axe, y_axe_name, title=\"trash\", num_show=num_show)\n",
    "\n",
    "# print(df_2)\n",
    "\n",
    "num_exper = [6]\n",
    "num_models = [5]\n",
    "file_names = [path + '5.txt']\n",
    "df_4 = get_df(num_models, num_exper, file_names, model_names, y_axe, y_axe_name, title=\"trash\", num_show=num_show)\n",
    "\n",
    "num_exper = [6]\n",
    "num_models = [5]\n",
    "file_names = [path + '9.txt']\n",
    "df_8 = get_df(num_models, num_exper, file_names, model_names, y_axe, y_axe_name, title=\"trash\", num_show=num_show)\n",
    "      \n",
    "num_exper = [6]\n",
    "num_models = [5]\n",
    "file_names = [path + '17.txt']\n",
    "\n",
    "df_16 = get_df(num_models, num_exper, file_names, model_names, y_axe, y_axe_name, title=\"trash\", num_show=num_show)\n",
    "\n",
    "frames = [df_2, df_4, df_8, df_16]\n",
    "show_results_time(frames, ['d = 2', 'd = 4', 'd = 8', 'd = 16'],  y_axe_name,\n",
    "                  y_log=False, x_log=True, dims=(24, 20),\n",
    "                  save=True, file_name='synthetic_datasets_2_2_final')\n"
   ]
  },
  {
   "cell_type": "code",
   "execution_count": null,
   "metadata": {},
   "outputs": [],
   "source": []
  },
  {
   "cell_type": "code",
   "execution_count": null,
   "metadata": {},
   "outputs": [],
   "source": []
  },
  {
   "cell_type": "code",
   "execution_count": null,
   "metadata": {},
   "outputs": [],
   "source": []
  },
  {
   "cell_type": "markdown",
   "metadata": {
    "colab_type": "text",
    "id": "C1OumeP23T7S"
   },
   "source": [
    "## Supplementary"
   ]
  },
  {
   "cell_type": "code",
   "execution_count": 0,
   "metadata": {
    "colab": {},
    "colab_type": "code",
    "id": "6uDu1yZX4Uii"
   },
   "outputs": [],
   "source": [
    "def get_df(num_models, num_exper, file_names, model_names, y_axe,  y_axe_name, title, num_show = []):\n",
    "    acc_num = 3\n",
    "    dist_calc_num = 7\n",
    "    df = []\n",
    "    for i in range(len(file_names)):\n",
    "        file_name = os.path.expanduser(file_names[i])\n",
    "        data = np.genfromtxt(file_name, dtype=('U10','U10','U10',float,'U10',int,'U10',int,'U10',float )).tolist()\n",
    "#         print(len(data))\n",
    "#         print(i)\n",
    "#         print(data)\n",
    "        for mod in range(num_models[i]):\n",
    "            for j in range(num_exper[i]):\n",
    "#                 print(len(model_names[i]), mod, j, i, num_models[i], mod + j*num_models[i])\n",
    "                if y_axe == 9:\n",
    "                    df.append([1.00001 - data[mod + j*num_models[i]][acc_num],\n",
    "                               1 / data[mod + j*num_models[i]][y_axe], model_names[i][mod], title])\n",
    "                else:\n",
    "                    \n",
    "                    df.append([1.00001 - data[mod + j*num_models[i]][acc_num],\n",
    "                               data[mod + j*num_models[i]][y_axe], model_names[i][mod], title])\n",
    "\n",
    "    df = pd.DataFrame(df, columns=[\"Error = 1 - Recall@1\", y_axe_name, \"algorithm\", \"title\"])\n",
    "#     print(df.shape)\n",
    "    if len(num_show) > 0:\n",
    "        it = 0\n",
    "        itt = 0\n",
    "        num_for_iloc = []\n",
    "        model_names_list = []\n",
    "        for i in range(len(file_names)):\n",
    "            for mod in range(len(model_names[i])):\n",
    "                model_names_list.append(model_names[i][mod])\n",
    "        allowed_set = set()\n",
    "        same_dict = dict()\n",
    "        for i in range(len(file_names)):\n",
    "            for mod in range(len(model_names[i])):\n",
    "                if itt in num_show:\n",
    "                    allowed_set.add(model_names_list[i])\n",
    "                    for j in range(num_exper[i]):\n",
    "                        num_for_iloc.append(it)\n",
    "                        it += 1\n",
    "                else:\n",
    "                    it += num_exper[i]\n",
    "                itt += 1\n",
    "    df = df.iloc[num_for_iloc]\n",
    "    \n",
    "    return df"
   ]
  },
  {
   "cell_type": "code",
   "execution_count": 0,
   "metadata": {
    "colab": {},
    "colab_type": "code",
    "id": "_wN6Qa_e6EHr"
   },
   "outputs": [],
   "source": [
    "def show_results_dist_1_3(frames, title, markers, y_axe_name, x_log=True, y_log=False,\n",
    "                      dims=(18, 12), save=False, file_name='trash'):\n",
    "    size = len(frames)\n",
    "    a4_dims = dims\n",
    "    fig, axs = plt.subplots(1, 3, figsize=a4_dims)\n",
    "    \n",
    "    sns.set_context(\"paper\", rc={\"font.size\":80})\n",
    "    for i in range(3):\n",
    "          sns.lineplot(x=\"Error = 1 - Recall@1\", y=y_axe_name,hue=\"algorithm\",\n",
    "                       markers=markers, style=\"algorithm\", dashes=False,\n",
    "                       data=frames[i], ax=axs[i])\n",
    "            \n",
    "          axs[i].set_title(title[i], size='20')\n",
    "\n",
    "          lx = axs[i].get_xlabel()\n",
    "          ly = axs[i].get_ylabel()\n",
    "          axs[i].set_xlabel(lx, fontsize=20)\n",
    "          if i > 0:\n",
    "              axs[i].set_ylabel('')\n",
    "\n",
    "    if y_log:\n",
    "        for i in range(3):\n",
    "            axs[i].set(yscale=\"log\")\n",
    "            \n",
    "    if x_log:\n",
    "        for i in range(3):\n",
    "            axs[i].set(xscale=\"log\")\n",
    "    if save:\n",
    "        fig.savefig(file_name + \".pdf\", bbox_inches='tight')"
   ]
  },
  {
   "cell_type": "code",
   "execution_count": 2,
   "metadata": {
    "colab": {
     "base_uri": "https://localhost:8080/",
     "height": 442
    },
    "colab_type": "code",
    "id": "1RhOIOC04UxH",
    "outputId": "16bb1c7c-48e9-4d09-d72c-3824ac4e7caf"
   },
   "outputs": [],
   "source": [
    "y_axe = 7\n",
    "y_axe_name = \"dist calc\"\n",
    "markers = [\"D\",  \"<\", \"d\", \"o\", \"D\",  \"<\", \"d\", \"o\", \"p\", \"p\", \"p\",]\n",
    "\n",
    "num_exper = [5]\n",
    "num_models = [6]\n",
    "file_names = ['syn_optimal_kl_d_5.txt']\n",
    "model_names = [['kNN', 'kNN + Kl + llf 4', 'kNN + Kl + llf 8', 'kNN + Kl + llf log', 'kNN + Kl + llf 16', 'kNN + Kl + llf 32']]\n",
    "num_show = [ 0,  1,  2, 4, 5]\n",
    "df_kl_4 = get_df(num_models, num_exper, file_names, model_names, y_axe, y_axe_name, title=\"trash\", num_show=num_show)\n",
    "\n",
    "num_exper = [6]\n",
    "num_models = [6]\n",
    "file_names = ['syn_optimal_kl_d_9.txt']\n",
    "df_kl_8 = get_df(num_models, num_exper, file_names, model_names, y_axe, y_axe_name, title=\"trash\", num_show=num_show)\n",
    "\n",
    "num_exper = [6]\n",
    "num_models = [6]\n",
    "file_names = ['syn_optimal_kl_d_17.txt']\n",
    "df_kl_16 = get_df(num_models, num_exper, file_names, model_names, y_axe, y_axe_name, title=\"trash\", num_show=num_show)\n",
    "\n",
    "frames = [df_kl_4, df_kl_8, df_kl_16]\n",
    "show_results_dist_1_3(frames, ['d = 4', 'd = 8', 'd = 16'], markers,  y_axe_name,\n",
    "                  y_log=True, x_log=True, dims=(20, 6),\n",
    "                  save=True, file_name='suppl_figure_optimal_kl')\n"
   ]
  },
  {
   "cell_type": "code",
   "execution_count": 0,
   "metadata": {
    "colab": {},
    "colab_type": "code",
    "id": "szsESxuv9sFd"
   },
   "outputs": [],
   "source": []
  },
  {
   "cell_type": "code",
   "execution_count": 0,
   "metadata": {
    "colab": {},
    "colab_type": "code",
    "id": "VuncPQY4fqtK"
   },
   "outputs": [],
   "source": []
  },
  {
   "cell_type": "code",
   "execution_count": 3,
   "metadata": {
    "colab": {
     "base_uri": "https://localhost:8080/",
     "height": 442
    },
    "colab_type": "code",
    "id": "9ucwi6Unfqwp",
    "outputId": "6950758c-7669-4bad-cf2c-140a1e4457fa"
   },
   "outputs": [],
   "source": [
    "y_axe = 7\n",
    "y_axe_name = \"dist calc\"\n",
    "num_exper = [6, 6, 6, 6]\n",
    "num_models = [2, 2, 2, 2]\n",
    "file_names = ['syn_knn_k_vs_knn_thr_d_9.txt', 'syn_kl_dist_d_9.txt', 'syn_kl_numb_d_9.txt', 'syn_kl_numb_sqrt_d_9.txt']\n",
    "model_names = [['thrNN', 'kNN'],\n",
    "               ['knn_1', 'kNN + Kl-dist + llf'],\n",
    "               ['knn_3', 'kNN + Kl-rank + llf'],\n",
    "               ['knn_2', 'kNN + Kl-rank sample + llf']]\n",
    "num_show = [ 0,  1,  3, 7,  5]\n",
    "markers = [\"D\",  \"<\", \"d\", \"o\", \"D\",  \"<\", \"d\", \"o\", \"p\", \"p\", \"p\",]\n",
    "df_knn_9 = get_df(num_models, num_exper, file_names, model_names,  y_axe, y_axe_name, title=\"trash\", num_show=num_show)\n",
    "\n",
    "\n",
    "# num_exper = [5,5,5,5]\n",
    "num_exper = [6, 6, 6, 6]\n",
    "num_models = [2, 2, 2, 2]\n",
    "file_names = ['syn_knn_k_vs_knn_thr_d_5.txt', 'syn_kl_dist_d_5.txt', 'syn_kl_numb_d_5.txt', 'syn_kl_numb_sqrt_d_5.txt']\n",
    "model_names = [['thrNN', 'kNN'],\n",
    "               ['knn_1', 'kNN + Kl-dist + llf'],\n",
    "               ['knn_3', 'kNN + Kl-rank + llf'],\n",
    "               ['knn_2', 'kNN + Kl-rank sample + llf']]\n",
    "num_show = [ 0,  1,  3, 7,  5]\n",
    "df_knn_5 = get_df(num_models, num_exper, file_names, model_names,  y_axe, y_axe_name, title=\"trash\", num_show=num_show)\n",
    "\n",
    "num_exper = [5,5,5,5]\n",
    "num_models = [1, 2, 2, 2]\n",
    "file_names = ['syn_knn_k_vs_knn_thr_d_17.txt', 'syn_kl_dist_d_17.txt', 'syn_kl_numb_d_17.txt', 'syn_kl_numb_sqrt_d_17.txt']\n",
    "model_names = [['thrNN'],\n",
    "               ['kNN', 'kNN + Kl-dist + llf'],\n",
    "               ['knn_3', 'kNN + Kl-rank + llf'],\n",
    "               ['knn_2', 'kNN + Kl-rank sample + llf']]\n",
    "num_show = [ 0,  1, 2, 4, 6]\n",
    "df_knn_17 = get_df(num_models, num_exper, file_names, model_names,  y_axe, y_axe_name, title=\"trash\", num_show=num_show)\n",
    "\n",
    "frames = [df_knn_5, df_knn_9, df_knn_17]\n",
    "show_results_dist_1_3(frames, ['d = 4', 'd = 8', 'd = 16'], markers,  y_axe_name,\n",
    "                  y_log=True, x_log=True, dims=(22, 6),\n",
    "                  save=True, file_name='suppl_figure_knn')\n"
   ]
  },
  {
   "cell_type": "code",
   "execution_count": 0,
   "metadata": {
    "colab": {},
    "colab_type": "code",
    "id": "TIWV2hfAfqzs"
   },
   "outputs": [],
   "source": []
  },
  {
   "cell_type": "code",
   "execution_count": 0,
   "metadata": {
    "colab": {},
    "colab_type": "code",
    "id": "eDMUrUhYfq29"
   },
   "outputs": [],
   "source": []
  }
 ],
 "metadata": {
  "colab": {
   "collapsed_sections": [
    "rDPclZlM3T79"
   ],
   "name": "knn_vs_klknn_results.ipynb",
   "provenance": [],
   "toc_visible": true
  },
  "kernelspec": {
   "display_name": "Python 3",
   "language": "python",
   "name": "python3"
  },
  "language_info": {
   "codemirror_mode": {
    "name": "ipython",
    "version": 3
   },
   "file_extension": ".py",
   "mimetype": "text/x-python",
   "name": "python",
   "nbconvert_exporter": "python",
   "pygments_lexer": "ipython3",
   "version": "3.7.6"
  }
 },
 "nbformat": 4,
 "nbformat_minor": 1
}
